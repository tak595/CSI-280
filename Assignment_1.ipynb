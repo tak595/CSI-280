{
  "nbformat": 4,
  "nbformat_minor": 0,
  "metadata": {
    "colab": {
      "name": "Assignment 1",
      "provenance": [],
      "authorship_tag": "ABX9TyOiD0obCGC2NIXqD33q1c3+",
      "include_colab_link": true
    },
    "kernelspec": {
      "name": "python3",
      "display_name": "Python 3"
    },
    "language_info": {
      "name": "python"
    }
  },
  "cells": [
    {
      "cell_type": "markdown",
      "metadata": {
        "id": "view-in-github",
        "colab_type": "text"
      },
      "source": [
        "<a href=\"https://colab.research.google.com/github/tak595/CSI-280/blob/main/Assignment_1.ipynb\" target=\"_parent\"><img src=\"https://colab.research.google.com/assets/colab-badge.svg\" alt=\"Open In Colab\"/></a>"
      ]
    },
    {
      "cell_type": "code",
      "metadata": {
        "colab": {
          "base_uri": "https://localhost:8080/"
        },
        "id": "L5GiWBULs7zX",
        "outputId": "f44df68e-9e02-41d6-f2be-414c43401bbb"
      },
      "source": [
        "import pandas as pd\n",
        "import numpy as np\n",
        "import csv\n",
        "import json\n",
        "import xml\n",
        "\n",
        "#read the file\n",
        "dataCsv = pd.read_csv(\"/content/tableconvert_csv_so70jx.csv\")\n",
        "dataJson = pd.io.json.read_json(\"/content/tableconvert_json_f0acan.json\")\n",
        "dataXml = pd.read_xml(\"/content/tableconvert_xml_1dxz8d.xml\")\n",
        "\n",
        "#print what is in the file\n",
        "#print(dataCsv.describe())\n",
        "#print(dataJson.describe())\n",
        "#print(dataXml.describe())\n",
        "\n",
        "convertJson = pd.DataFrame.to_json(dataCsv)\n",
        "conVertCsv = pd.DataFrame.to_csv(dataXml)\n",
        "convertXml = pd.DataFrame.to_xml(dataJson)\n",
        "\n",
        "meanDataNp = np.mean(dataCsv)\n",
        "meanDataPandas = pd.DataFrame(dataCsv, columns = ['Column_A','Column_B','Column_C'], index = ['Item_1', 'Item_2'])\n",
        "\n",
        "print(meanDataNp)\n",
        "print(\"\\n\")\n",
        "print(meanDataCsv.describe())\n",
        "\n",
        "\n",
        "\n",
        "\n",
        "\n",
        "\n",
        "\n",
        "\n",
        "\n",
        "\n",
        "\n",
        "\n",
        "\n"
      ],
      "execution_count": 121,
      "outputs": [
        {
          "output_type": "stream",
          "name": "stdout",
          "text": [
            "sepal.length    5.843333\n",
            "sepal.width     3.057333\n",
            "petal.length    3.758000\n",
            "petal.width     1.199333\n",
            "dtype: float64\n",
            "\n",
            "\n",
            "count    4.000000\n",
            "mean     3.464500\n",
            "std      1.918485\n",
            "min      1.199333\n",
            "25%      2.592833\n",
            "50%      3.407667\n",
            "75%      4.279333\n",
            "max      5.843333\n",
            "dtype: float64\n"
          ]
        },
        {
          "output_type": "stream",
          "name": "stderr",
          "text": [
            "/usr/local/lib/python3.7/dist-packages/numpy/core/fromnumeric.py:3370: FutureWarning: Dropping of nuisance columns in DataFrame reductions (with 'numeric_only=None') is deprecated; in a future version this will raise TypeError.  Select only valid columns before calling the reduction.\n",
            "  return mean(axis=axis, dtype=dtype, out=out, **kwargs)\n"
          ]
        }
      ]
    },
    {
      "cell_type": "markdown",
      "metadata": {
        "id": "NDaL9Gj1LYLX"
      },
      "source": [
        ""
      ]
    }
  ]
}